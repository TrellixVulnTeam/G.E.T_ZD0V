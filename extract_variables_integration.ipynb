{
 "cells": [
  {
   "cell_type": "markdown",
   "metadata": {},
   "source": [
    "# Librerias"
   ]
  },
  {
   "cell_type": "code",
   "execution_count": 275,
   "metadata": {},
   "outputs": [],
   "source": [
    "from text_detection import get_aws_analyze_document"
   ]
  },
  {
   "cell_type": "code",
   "execution_count": 276,
   "metadata": {},
   "outputs": [],
   "source": [
    "import os\n",
    "import numpy as np\n",
    "import time\n",
    "import pandas as pd\n",
    "import datetime\n",
    "import re\n",
    "import boto3\n",
    "import matplotlib.pyplot as plt\n",
    "import cv2\n",
    "import spacy\n",
    "from unicodedata import normalize\n",
    "import boto3"
   ]
  },
  {
   "cell_type": "markdown",
   "metadata": {},
   "source": [
    "# Funciones"
   ]
  },
  {
   "cell_type": "code",
   "execution_count": 277,
   "metadata": {},
   "outputs": [],
   "source": [
    "###Variables\n",
    "##leer todos los renglones separados por enter\n",
    "def df_text_to_string(df_text):\n",
    "    df_text = df_text.applymap(str)\n",
    "    string= ''\n",
    "    for i, row in df_text.iterrows():\n",
    "        line_text = ''.join(row)\n",
    "        #print(line_text)\n",
    "        string += line_text +'\\n'\n",
    "    return string\n",
    "def list_dfs_to_string(list_df_text):\n",
    "    String = ' '.join([df_text_to_string(x) for x in list_df_text])\n",
    "    return String\n",
    "\n",
    "\n",
    "\n",
    "def clean_text(s):\n",
    "    ##acentos y caracteres especiales\n",
    "    s = re.sub(\n",
    "        r\"([^n\\u0300-\\u036f]|n(?!\\u0303(?![\\u0300-\\u036f])))[\\u0300-\\u036f]+\", r\"\\1\", \n",
    "        normalize( \"NFD\", s), 0, re.I)\n",
    "    s = normalize( 'NFC', s)\n",
    "    #minusculas\n",
    "    minus = s.lower()\n",
    "    ##puntuacion\n",
    "    punctuations = '''!()-[]{};:'\"\\,<>./?@#$%^&*_~'''\n",
    "    no_punct = \"\"\n",
    "    for char in minus:\n",
    "       if char not in punctuations:\n",
    "           no_punct = no_punct + char\n",
    "\n",
    "    return no_punct\n",
    "\n",
    "def extract_dates(s):\n",
    "    try:\n",
    "        mesesDic = {'enero': '01',\n",
    "                 'febrero': '02',\n",
    "                 'marzo': '03',\n",
    "                 'abril': '04',\n",
    "                 'mayo': '05',\n",
    "                 'junio': '06',\n",
    "                 'julio': '07',\n",
    "                 'agosto': '08',\n",
    "                 'septiembre': '09',\n",
    "                 'octubre': '10',\n",
    "                 'noviembre': '11',\n",
    "                 'diciembre': '12'}\n",
    "        dates = re.finditer('(?P<day>[0-9]{2}) (de) (?P<month>[a-zA-Z]+) (de|del) (?P<year>[0-9]{4})',s)\n",
    "        list_dates = []\n",
    "        for x in dates:\n",
    "            day = x.group('day')\n",
    "            month = mesesDic[x.group('month')]\n",
    "            year = x.group('year')\n",
    "            fecha = datetime.date(int(year),int(month),int(day))\n",
    "            list_dates.append(fecha)\n",
    "        list_dates.sort(reverse=True)\n",
    "        list_dates = [y.strftime('%d-%m-%Y') for y in list_dates]\n",
    "           #print(list_dates)\n",
    "        return list_dates[0]\n",
    "    except:\n",
    "        return None\n",
    "\n",
    "def extract_unidades(s):\n",
    "    try:\n",
    "        unidades = re.finditer('((miles|millones) (de) (?P<moneda>(dolares|pesos|usd)( colombianos)?))',s,flags=2)\n",
    "        i = 0\n",
    "        for x in unidades:\n",
    "            if i ==0:\n",
    "                moneda1 = x.group()\n",
    "            moneda = x.group('moneda')\n",
    "            if moneda == 'usd':\n",
    "                return x.group()\n",
    "            if moneda == 'dolares':\n",
    "                return x.group()\n",
    "\n",
    "        return moneda1\n",
    "    except:\n",
    "        return None\n",
    "    \n",
    "def dates_in_tables_f(list_df_tables):\n",
    "    dates_in_tables =[]\n",
    "    for df_tables in list_df_tables:\n",
    "        s = df_text_to_string(df_tables)\n",
    "        date = extract_dates(s)\n",
    "        \n",
    "        dates_in_tables.append(date)\n",
    "    dates_in_tables = [x for x in dates_in_tables if x]\n",
    "    dates_in_tables.sort()\n",
    "    date = dates_in_tables[-1]\n",
    "    return date\n",
    "def intenta_limpiar_texto(x):\n",
    "    try:\n",
    "        y=clean_text(x)\n",
    "        return y\n",
    "    except:\n",
    "        return x\n",
    "\n",
    "def loc_variable_key(list_df_tables,variable):\n",
    "    lis_dict = []\n",
    "    for hoja in range(len(list_df_tables)):\n",
    "        \n",
    "        for col in range(list_df_tables[hoja].shape[1]):\n",
    "            #print(variable)\n",
    "            for i in range(list_df_tables[hoja].shape[0]):\n",
    "                    try:\n",
    "                        s =list_df_tables[hoja].iloc[i,col]\n",
    "                        #print(s)\n",
    "                        var = re.search('|'.join(v_contables_dict[variable]),s)\n",
    "                        if var:\n",
    "                            d_ubi = {s:[hoja, col, i]}\n",
    "                            lis_dict.append(d_ubi)\n",
    "                            #print(s)\n",
    "                            #print(hoja,i,col)\n",
    "                    except:\n",
    "                        pass\n",
    "    return lis_dict\n",
    "\n"
   ]
  },
  {
   "cell_type": "markdown",
   "metadata": {},
   "source": [
    "# Integración"
   ]
  },
  {
   "cell_type": "markdown",
   "metadata": {},
   "source": [
    "#### Get aws analyze document"
   ]
  },
  {
   "cell_type": "code",
   "execution_count": 278,
   "metadata": {},
   "outputs": [],
   "source": [
    "bucket = 'calacaschidas'\n",
    "bucket_files = boto3.client('s3').list_objects(Bucket=bucket)['Contents']\n",
    "bucket_files = [x['Key'] for x in bucket_files][1:]\n",
    "\n",
    "bucket_file = 'Doc3.pdf'\n",
    "file_path = os.path.join('DownTest', bucket_file)\n",
    "if bucket_file not in os.listdir('DownTest'):\n",
    "    boto3.client('s3').download_file(\n",
    "        bucket, \n",
    "        file_path, \n",
    "        file_path\n",
    "    )\n",
    "list_df_tables, list_df_text = get_aws_analyze_document(file_path)"
   ]
  },
  {
   "cell_type": "markdown",
   "metadata": {},
   "source": [
    "#### Unidades y fechas"
   ]
  },
  {
   "cell_type": "code",
   "execution_count": 279,
   "metadata": {},
   "outputs": [],
   "source": [
    "Text = clean_text(list_dfs_to_string(list_df_text))\n",
    "\n",
    "Unidades = extract_unidades(Text)\n",
    "Fecha = extract_dates(Text)\n"
   ]
  },
  {
   "cell_type": "code",
   "execution_count": 280,
   "metadata": {},
   "outputs": [
    {
     "name": "stdout",
     "output_type": "stream",
     "text": [
      "deja busco\n"
     ]
    }
   ],
   "source": [
    "##si no encontré esas variables, buscalas en las tablas \n",
    "if Fecha:\n",
    "    print('va')\n",
    "else:\n",
    "    print('deja busco')\n",
    "    ##busca fechas en las tablas\n",
    "    Fecha = dates_in_tables_f(list_df_tables)\n",
    "    \n",
    "#if Unidades:\n",
    "    \n",
    "    "
   ]
  },
  {
   "cell_type": "markdown",
   "metadata": {},
   "source": [
    "#### Variables contables"
   ]
  },
  {
   "cell_type": "code",
   "execution_count": 281,
   "metadata": {},
   "outputs": [],
   "source": [
    "##dic de los nombres posibles\n",
    "v_contables_dict = {\n",
    "    'Caja y Bancos':[\n",
    "        'caja y bancos', \n",
    "        'efectivo y equivalentes en efectivo',\n",
    "        'efectivo y equivalentes de efectivo',\n",
    "    ],\n",
    "    'Total activo':[\n",
    "        'total activo',\n",
    "        'suma de los activos', \n",
    "        'activo total'\n",
    "    ],\n",
    "    'Total pasivo':[\n",
    "        'total pasivo',\n",
    "        'suma de los pasivos',\n",
    "        'pasivo total',\n",
    "        'total pasivos'\n",
    "\n",
    "    ],\n",
    "    'Total patrimonio':[\n",
    "        'total patrimonio',\n",
    "        'suma de los patrimonios',\n",
    "        'patrimonio total',\n",
    "        'patrimonio',\n",
    "        'suma del capital contable',\n",
    "        'total capital contable', \n",
    "        'total capital', \n",
    "    ],\n",
    "    'Ventas':[\n",
    "        'ventas',  \n",
    "        'ventas por operacion ordinacia',\n",
    "        'ingresos por operacion',\n",
    "        'ingresos por operacion ordinaria', \n",
    "        'ingresos operacionales', \n",
    "        'ventas brutas', \n",
    "        'ingreso por actividades ordinarias',\n",
    "        'total ingresos operacionales'\n",
    "    ],\n",
    "    'Costo de ventas':[\n",
    "        'costos de ventas', \n",
    "        'costos por ventas', \n",
    "        'costo de actividades ordinarias',\n",
    "    ],\n",
    "    'Utilidad Bruta':[\n",
    "        'utilidad bruta',\n",
    "        'perdida bruta',\n",
    "    ],\n",
    "    'utilidad operacional': [\n",
    "        'utilidad operacional', \n",
    "        'perdida operacional',\n",
    "    ],\n",
    "    'utilidad antes de impuestos': [\n",
    "        'utilidad antes de impuestos', \n",
    "        'perdida antes de impuestos',\n",
    "    ],\n",
    "    'utilidad neta': [\n",
    "        'utilidad neta', \n",
    "        'perdida neta',\n",
    "    ],\n",
    "}"
   ]
  },
  {
   "cell_type": "code",
   "execution_count": 282,
   "metadata": {},
   "outputs": [],
   "source": [
    "#df_clean_text = list_df_tables[0].applymap(intenta_limpiar)\n"
   ]
  },
  {
   "cell_type": "code",
   "execution_count": 283,
   "metadata": {},
   "outputs": [],
   "source": [
    "#df_clean_text"
   ]
  },
  {
   "cell_type": "code",
   "execution_count": 284,
   "metadata": {},
   "outputs": [],
   "source": [
    "#list_df_tables[0]"
   ]
  },
  {
   "cell_type": "code",
   "execution_count": 285,
   "metadata": {},
   "outputs": [],
   "source": [
    "###limpieza del texto del df\n",
    "for x in range(len(list_df_tables)):\n",
    "    list_df_tables[x] = list_df_tables[x].applymap(intenta_limpiar)\n",
    "    "
   ]
  },
  {
   "cell_type": "code",
   "execution_count": 286,
   "metadata": {},
   "outputs": [
    {
     "data": {
      "text/plain": [
       "['ventas',\n",
       " 'ventas por operacion ordinacia',\n",
       " 'ingresos por operacion',\n",
       " 'ingresos por operacion ordinaria',\n",
       " 'ingresos operacionales',\n",
       " 'ventas brutas',\n",
       " 'ingreso por actividades ordinarias',\n",
       " 'total ingresos operacionales']"
      ]
     },
     "execution_count": 286,
     "metadata": {},
     "output_type": "execute_result"
    }
   ],
   "source": [
    "v_contables_dict['Ventas']"
   ]
  },
  {
   "cell_type": "code",
   "execution_count": 287,
   "metadata": {},
   "outputs": [],
   "source": [
    "#list_df_tables[2].iteritems()"
   ]
  },
  {
   "cell_type": "code",
   "execution_count": 288,
   "metadata": {},
   "outputs": [],
   "source": [
    "#s='total variable y costo de actividades ordinarias ventas jhhv hghvfh ñ'\n",
    "#costo = re.search('|'.join(v_contables_dict['Costo de ventas']),s)\n",
    "\n",
    "#[costo]"
   ]
  },
  {
   "cell_type": "code",
   "execution_count": 289,
   "metadata": {},
   "outputs": [],
   "source": [
    "#print(costo)"
   ]
  },
  {
   "cell_type": "code",
   "execution_count": 290,
   "metadata": {},
   "outputs": [],
   "source": [
    "#('|'.join(v_contables_dict['Costo de ventas']))"
   ]
  },
  {
   "cell_type": "code",
   "execution_count": 291,
   "metadata": {},
   "outputs": [],
   "source": [
    "variables_contables ={}\n",
    "for key in v_contables_dict:\n",
    "    #print('***',key,'***')\n",
    "    lis = loc_variable_key(list_df_tables,key)\n",
    "    variables_contables[key] = lis\n",
    "    #print('\\n')\n",
    "    ##arreglar jerarquia y quedarme con uno"
   ]
  },
  {
   "cell_type": "code",
   "execution_count": 292,
   "metadata": {},
   "outputs": [
    {
     "data": {
      "text/plain": [
       "{'Caja y Bancos': [{'efectivo y equivalentes de efectivo': [0, 1, 4]}],\n",
       " 'Total activo': [{'total activos corrientes': [0, 1, 16]},\n",
       "  {'total activos no corrientes': [0, 1, 25]},\n",
       "  {'total activos': [0, 1, 26]}],\n",
       " 'Total pasivo': [{'total pasivos corrientes': [1, 1, 16]},\n",
       "  {'total pasivos no corrientes': [1, 1, 25]},\n",
       "  {'total pasivos': [1, 1, 26]},\n",
       "  {'total pasivos y patrimonio': [1, 1, 37]}],\n",
       " 'Total patrimonio': [{'pasivos y patrimonio': [1, 1, 1]},\n",
       "  {'patrimonio': [1, 1, 27]},\n",
       "  {'total de patrimonio atribuible a los propietarios de la compania': [1,\n",
       "    1,\n",
       "    34]},\n",
       "  {'total patrimonio': [1, 1, 36]},\n",
       "  {'total pasivos y patrimonio': [1, 1, 37]}],\n",
       " 'Ventas': [{'ingresos operacionales': [2, 1, 2]},\n",
       "  {'total ingresos operacionales': [2, 1, 5]},\n",
       "  {'gastos de ventas': [2, 1, 14]}],\n",
       " 'Costo de ventas': [],\n",
       " 'Utilidad Bruta': [],\n",
       " 'utilidad operacional': [],\n",
       " 'utilidad antes de impuestos': [],\n",
       " 'utilidad neta': [{'perdida utilidad neta del periodo': [2, 1, 31]}]}"
      ]
     },
     "execution_count": 292,
     "metadata": {},
     "output_type": "execute_result"
    }
   ],
   "source": [
    "variables_contables"
   ]
  },
  {
   "cell_type": "code",
   "execution_count": 293,
   "metadata": {},
   "outputs": [],
   "source": [
    "variables = variables_contables.copy()"
   ]
  },
  {
   "cell_type": "code",
   "execution_count": 294,
   "metadata": {},
   "outputs": [],
   "source": [
    "variables['Fecha'] = Fecha\n",
    "variables['Unidades'] = Unidades\n"
   ]
  },
  {
   "cell_type": "code",
   "execution_count": 295,
   "metadata": {},
   "outputs": [
    {
     "data": {
      "text/plain": [
       "{'Caja y Bancos': [{'efectivo y equivalentes de efectivo': [0, 1, 4]}],\n",
       " 'Total activo': [{'total activos corrientes': [0, 1, 16]},\n",
       "  {'total activos no corrientes': [0, 1, 25]},\n",
       "  {'total activos': [0, 1, 26]}],\n",
       " 'Total pasivo': [{'total pasivos corrientes': [1, 1, 16]},\n",
       "  {'total pasivos no corrientes': [1, 1, 25]},\n",
       "  {'total pasivos': [1, 1, 26]},\n",
       "  {'total pasivos y patrimonio': [1, 1, 37]}],\n",
       " 'Total patrimonio': [{'pasivos y patrimonio': [1, 1, 1]},\n",
       "  {'patrimonio': [1, 1, 27]},\n",
       "  {'total de patrimonio atribuible a los propietarios de la compania': [1,\n",
       "    1,\n",
       "    34]},\n",
       "  {'total patrimonio': [1, 1, 36]},\n",
       "  {'total pasivos y patrimonio': [1, 1, 37]}],\n",
       " 'Ventas': [{'ingresos operacionales': [2, 1, 2]},\n",
       "  {'total ingresos operacionales': [2, 1, 5]},\n",
       "  {'gastos de ventas': [2, 1, 14]}],\n",
       " 'Costo de ventas': [],\n",
       " 'Utilidad Bruta': [],\n",
       " 'utilidad operacional': [],\n",
       " 'utilidad antes de impuestos': [],\n",
       " 'utilidad neta': [{'perdida utilidad neta del periodo': [2, 1, 31]}],\n",
       " 'Fecha': '31-12-2019',\n",
       " 'Unidades': 'miles de usd'}"
      ]
     },
     "execution_count": 295,
     "metadata": {},
     "output_type": "execute_result"
    }
   ],
   "source": [
    "variables"
   ]
  },
  {
   "cell_type": "code",
   "execution_count": 296,
   "metadata": {},
   "outputs": [
    {
     "data": {
      "text/plain": [
       "dict_keys(['Caja y Bancos', 'Total activo', 'Total pasivo', 'Total patrimonio', 'Ventas', 'Costo de ventas', 'Utilidad Bruta', 'utilidad operacional', 'utilidad antes de impuestos', 'utilidad neta', 'Fecha', 'Unidades'])"
      ]
     },
     "execution_count": 296,
     "metadata": {},
     "output_type": "execute_result"
    }
   ],
   "source": [
    "variables.keys()"
   ]
  },
  {
   "cell_type": "code",
   "execution_count": null,
   "metadata": {},
   "outputs": [],
   "source": []
  }
 ],
 "metadata": {
  "kernelspec": {
   "display_name": "Data_Science",
   "language": "python",
   "name": "ciencia_datos"
  },
  "language_info": {
   "codemirror_mode": {
    "name": "ipython",
    "version": 3
   },
   "file_extension": ".py",
   "mimetype": "text/x-python",
   "name": "python",
   "nbconvert_exporter": "python",
   "pygments_lexer": "ipython3",
   "version": "3.8.5"
  }
 },
 "nbformat": 4,
 "nbformat_minor": 4
}
